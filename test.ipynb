{
 "cells": [
  {
   "cell_type": "markdown",
   "id": "de33da20-b8ff-4319-90ba-5be68382c8d8",
   "metadata": {
    "tags": []
   },
   "source": [
    "## 試用老師的函式庫"
   ]
  },
  {
   "cell_type": "code",
   "execution_count": 1,
   "id": "d71fb47f-428f-4a75-92be-a5957ca10e6e",
   "metadata": {
    "tags": []
   },
   "outputs": [
    {
     "name": "stdout",
     "output_type": "stream",
     "text": [
      "Requirement already satisfied: onnxruntime in /opt/conda/lib/python3.10/site-packages (1.19.0)\n",
      "Requirement already satisfied: coloredlogs in /opt/conda/lib/python3.10/site-packages (from onnxruntime) (15.0.1)\n",
      "Requirement already satisfied: flatbuffers in /opt/conda/lib/python3.10/site-packages (from onnxruntime) (23.5.26)\n",
      "Requirement already satisfied: numpy>=1.21.6 in /opt/conda/lib/python3.10/site-packages (from onnxruntime) (1.24.3)\n",
      "Requirement already satisfied: packaging in /opt/conda/lib/python3.10/site-packages (from onnxruntime) (21.3)\n",
      "Requirement already satisfied: protobuf in /opt/conda/lib/python3.10/site-packages (from onnxruntime) (3.20.3)\n",
      "Requirement already satisfied: sympy in /opt/conda/lib/python3.10/site-packages (from onnxruntime) (1.12)\n",
      "Requirement already satisfied: humanfriendly>=9.1 in /opt/conda/lib/python3.10/site-packages (from coloredlogs->onnxruntime) (10.0)\n",
      "Requirement already satisfied: pyparsing!=3.0.5,>=2.0.2 in /opt/conda/lib/python3.10/site-packages (from packaging->onnxruntime) (3.0.9)\n",
      "Requirement already satisfied: mpmath>=0.19 in /opt/conda/lib/python3.10/site-packages (from sympy->onnxruntime) (1.3.0)\n",
      "Collecting https://github.com/htylab/tigerbx/archive/release.zip\n",
      "  Using cached https://github.com/htylab/tigerbx/archive/release.zip\n",
      "  Installing build dependencies ... \u001b[?25ldone\n",
      "\u001b[?25h  Getting requirements to build wheel ... \u001b[?25ldone\n",
      "\u001b[?25h  Preparing metadata (pyproject.toml) ... \u001b[?25ldone\n",
      "\u001b[?25hRequirement already satisfied: numpy>=1.21.6 in /opt/conda/lib/python3.10/site-packages (from tigerbx==0.1.16) (1.24.3)\n",
      "Requirement already satisfied: nilearn>=0.9.2 in /opt/conda/lib/python3.10/site-packages (from tigerbx==0.1.16) (0.10.2)\n",
      "Requirement already satisfied: SimpleITK>=2.0.0 in /opt/conda/lib/python3.10/site-packages (from tigerbx==0.1.16) (2.3.1)\n",
      "Requirement already satisfied: joblib>=1.0.0 in /opt/conda/lib/python3.10/site-packages (from nilearn>=0.9.2->tigerbx==0.1.16) (1.3.2)\n",
      "Requirement already satisfied: lxml in /opt/conda/lib/python3.10/site-packages (from nilearn>=0.9.2->tigerbx==0.1.16) (4.9.3)\n",
      "Requirement already satisfied: nibabel>=3.2.0 in /opt/conda/lib/python3.10/site-packages (from nilearn>=0.9.2->tigerbx==0.1.16) (5.1.0)\n",
      "Requirement already satisfied: packaging in /opt/conda/lib/python3.10/site-packages (from nilearn>=0.9.2->tigerbx==0.1.16) (21.3)\n",
      "Requirement already satisfied: pandas>=1.1.5 in /opt/conda/lib/python3.10/site-packages (from nilearn>=0.9.2->tigerbx==0.1.16) (2.0.3)\n",
      "Requirement already satisfied: requests>=2.25.0 in /opt/conda/lib/python3.10/site-packages (from nilearn>=0.9.2->tigerbx==0.1.16) (2.31.0)\n",
      "Requirement already satisfied: scikit-learn>=1.0.0 in /opt/conda/lib/python3.10/site-packages (from nilearn>=0.9.2->tigerbx==0.1.16) (1.2.2)\n",
      "Requirement already satisfied: scipy>=1.6.0 in /opt/conda/lib/python3.10/site-packages (from nilearn>=0.9.2->tigerbx==0.1.16) (1.14.0)\n",
      "Requirement already satisfied: pyparsing!=3.0.5,>=2.0.2 in /opt/conda/lib/python3.10/site-packages (from packaging->nilearn>=0.9.2->tigerbx==0.1.16) (3.0.9)\n",
      "Requirement already satisfied: python-dateutil>=2.8.2 in /opt/conda/lib/python3.10/site-packages (from pandas>=1.1.5->nilearn>=0.9.2->tigerbx==0.1.16) (2.8.2)\n",
      "Requirement already satisfied: pytz>=2020.1 in /opt/conda/lib/python3.10/site-packages (from pandas>=1.1.5->nilearn>=0.9.2->tigerbx==0.1.16) (2023.3)\n",
      "Requirement already satisfied: tzdata>=2022.1 in /opt/conda/lib/python3.10/site-packages (from pandas>=1.1.5->nilearn>=0.9.2->tigerbx==0.1.16) (2023.3)\n",
      "Requirement already satisfied: charset-normalizer<4,>=2 in /opt/conda/lib/python3.10/site-packages (from requests>=2.25.0->nilearn>=0.9.2->tigerbx==0.1.16) (3.2.0)\n",
      "Requirement already satisfied: idna<4,>=2.5 in /opt/conda/lib/python3.10/site-packages (from requests>=2.25.0->nilearn>=0.9.2->tigerbx==0.1.16) (3.4)\n",
      "Requirement already satisfied: urllib3<3,>=1.21.1 in /opt/conda/lib/python3.10/site-packages (from requests>=2.25.0->nilearn>=0.9.2->tigerbx==0.1.16) (1.26.15)\n",
      "Requirement already satisfied: certifi>=2017.4.17 in /opt/conda/lib/python3.10/site-packages (from requests>=2.25.0->nilearn>=0.9.2->tigerbx==0.1.16) (2023.11.17)\n",
      "Requirement already satisfied: threadpoolctl>=2.0.0 in /opt/conda/lib/python3.10/site-packages (from scikit-learn>=1.0.0->nilearn>=0.9.2->tigerbx==0.1.16) (3.2.0)\n",
      "Requirement already satisfied: six>=1.5 in /opt/conda/lib/python3.10/site-packages (from python-dateutil>=2.8.2->pandas>=1.1.5->nilearn>=0.9.2->tigerbx==0.1.16) (1.16.0)\n"
     ]
    }
   ],
   "source": [
    "!pip install onnxruntime #for gpu version: onnxruntime-gpu\n",
    "!pip install https://github.com/htylab/tigerbx/archive/release.zip"
   ]
  },
  {
   "cell_type": "code",
   "execution_count": 3,
   "id": "ff1a70a9-d363-4afe-948a-a9c726237352",
   "metadata": {},
   "outputs": [
    {
     "name": "stdout",
     "output_type": "stream",
     "text": [
      "/NFS/norm/dataset/aseg_data/T1w_raw/PPMI_3573_I423733_T1w_raw.nii.gz\n"
     ]
    }
   ],
   "source": [
    "import tigerbx\n",
    "import glob\n",
    "maskffs =  glob.glob('/NFS/norm/dataset/aseg_data/T1w_raw/*T1w_raw.nii.gz')\n",
    "print(maskffs[2])\n",
    "# tigerbx.run('ap', maskffs[1], r'.')"
   ]
  },
  {
   "cell_type": "code",
   "execution_count": 1,
   "id": "281bf0e1-3dc7-43e9-a5b2-1445483d9624",
   "metadata": {},
   "outputs": [
    {
     "name": "stdout",
     "output_type": "stream",
     "text": [
      "/bin/bash: /opt/conda/lib/libtinfo.so.6: no version information available (required by /bin/bash)\n",
      "/home/jupyter/norm\n"
     ]
    }
   ],
   "source": [
    "!pwd"
   ]
  },
  {
   "cell_type": "code",
   "execution_count": 4,
   "id": "894e762e-a324-4e92-940f-47020cd8821e",
   "metadata": {},
   "outputs": [
    {
     "name": "stdout",
     "output_type": "stream",
     "text": [
      "/bin/bash: /opt/conda/lib/libtinfo.so.6: no version information available (required by /bin/bash)\n",
      "Collecting torchio\n",
      "  Downloading torchio-0.18.92-py2.py3-none-any.whl (172 kB)\n",
      "\u001b[2K     \u001b[90m━━━━━━━━━━━━━━━━━━━━━━━━━━━━━━━━━━━━━━━\u001b[0m \u001b[32m172.9/172.9 kB\u001b[0m \u001b[31m2.8 MB/s\u001b[0m eta \u001b[36m0:00:00\u001b[0ma \u001b[36m0:00:01\u001b[0m\n",
      "\u001b[?25hRequirement already satisfied: SimpleITK!=2.0.*,!=2.1.1.1 in /opt/conda/lib/python3.7/site-packages (from torchio) (2.2.1)\n",
      "Requirement already satisfied: numpy>=1.15 in /opt/conda/lib/python3.7/site-packages (from torchio) (1.21.6)\n",
      "Requirement already satisfied: nibabel in /opt/conda/lib/python3.7/site-packages (from torchio) (4.0.2)\n",
      "Requirement already satisfied: typer[all] in /opt/conda/lib/python3.7/site-packages (from torchio) (0.4.2)\n",
      "Requirement already satisfied: humanize in /opt/conda/lib/python3.7/site-packages (from torchio) (4.6.0)\n",
      "Requirement already satisfied: scipy in /opt/conda/lib/python3.7/site-packages (from torchio) (1.7.3)\n",
      "Collecting Deprecated\n",
      "  Downloading Deprecated-1.2.14-py2.py3-none-any.whl (9.6 kB)\n",
      "Requirement already satisfied: tqdm in /opt/conda/lib/python3.7/site-packages (from torchio) (4.64.1)\n",
      "Requirement already satisfied: torch>=1.1 in /opt/conda/lib/python3.7/site-packages (from torchio) (1.12.1+cu113)\n",
      "Requirement already satisfied: typing-extensions in /opt/conda/lib/python3.7/site-packages (from torch>=1.1->torchio) (4.1.1)\n",
      "Requirement already satisfied: wrapt<2,>=1.10 in /opt/conda/lib/python3.7/site-packages (from Deprecated->torchio) (1.14.1)\n",
      "Requirement already satisfied: importlib-metadata in /opt/conda/lib/python3.7/site-packages (from humanize->torchio) (6.0.0)\n",
      "Requirement already satisfied: packaging>=17.0 in /opt/conda/lib/python3.7/site-packages (from nibabel->torchio) (23.0)\n",
      "Requirement already satisfied: setuptools in /opt/conda/lib/python3.7/site-packages (from nibabel->torchio) (59.8.0)\n",
      "Requirement already satisfied: click<9.0.0,>=7.1.1 in /opt/conda/lib/python3.7/site-packages (from typer[all]->torchio) (8.1.3)\n",
      "Requirement already satisfied: colorama<0.5.0,>=0.4.3 in /opt/conda/lib/python3.7/site-packages (from typer[all]->torchio) (0.4.6)\n",
      "Collecting shellingham<2.0.0,>=1.3.0\n",
      "  Downloading shellingham-1.5.4-py2.py3-none-any.whl (9.8 kB)\n",
      "Requirement already satisfied: zipp>=0.5 in /opt/conda/lib/python3.7/site-packages (from importlib-metadata->humanize->torchio) (3.8.1)\n",
      "Installing collected packages: shellingham, Deprecated, torchio\n",
      "Successfully installed Deprecated-1.2.14 shellingham-1.5.4 torchio-0.18.92\n",
      "\u001b[33mWARNING: Running pip as the 'root' user can result in broken permissions and conflicting behaviour with the system package manager. It is recommended to use a virtual environment instead: https://pip.pypa.io/warnings/venv\u001b[0m\u001b[33m\n",
      "\u001b[0m"
     ]
    }
   ],
   "source": [
    "! pip install torchio"
   ]
  },
  {
   "cell_type": "code",
   "execution_count": 19,
   "id": "5966d240-2d50-4b83-9773-251a6ff72457",
   "metadata": {},
   "outputs": [
    {
     "name": "stdout",
     "output_type": "stream",
     "text": [
      "(2, 2, 2)\n"
     ]
    }
   ],
   "source": [
    "# label_to_image\n",
    "import numpy as np\n",
    "import os, random\n",
    "import torchio as tio\n",
    "\n",
    "def get_image(label):\n",
    "    index_all = np.unique(label)    # number of classes\n",
    "    gen_ima = label * 0             # initialize the 3d matrix with 0\n",
    "    for ii in index_all:             \n",
    "        mu = random.random()\n",
    "        sigma = random.random()*0.05 # mean and standard deviation\n",
    "        len1 = np.sum(label==ii)     # number of voxels in a class\n",
    "        gen_ima[label==ii] = np.random.normal(mu , sigma, len1) # fill in the value\n",
    "    return gen_ima\n",
    "\n",
    "def get_ima_aug(label):\n",
    "    gen_ima = get_image(label)\n",
    "    data = dict()\n",
    "    data['ima'] = gen_ima[None, ...]\n",
    "    data['label'] = label[None, ...]\n",
    "    temp = data\n",
    "    # scale 0.9 <-> 1.1\n",
    "    # degree -10 <-> +10\n",
    "    # padding minimum\n",
    "    # img interpolation linear\n",
    "    # img interpolation nearest\n",
    "    temp = tio.RandomAffine(label_keys='label', include=['ima', 'label'])(temp)\n",
    "    # num control points 7 7 7\n",
    "    # max displacement 7.5\n",
    "    if random.random() > 0.3: temp = tio.RandomElasticDeformation(label_keys='label', include=['ima', 'label'])(temp)\n",
    "    # axis 0 1 2\n",
    "    # downsample factor 1.5 <-> 5\n",
    "    if random.random() > 0.5: temp = tio.RandomAnisotropy(label_keys='label', include=['ima', 'label'], scalars_only=True)(temp)\n",
    "    # degree -10 <-> 10\n",
    "    # motion 最大位移 -10 <-> 10\n",
    "    if random.random() > 0.9: temp = tio.RandomMotion(label_keys='label', include=['ima', 'label'])(temp)\n",
    "    # 重影\n",
    "    # num_ghosts 4 <-> 10\n",
    "    # axis 0 1 2\n",
    "    # ghost intensity 0.5 <-> 1.0\n",
    "    if random.random() > 0.9: temp = tio.RandomGhosting(label_keys='label', include=['ima', 'label'])(temp)\n",
    "    # out = A * in^(gamma)\n",
    "    temp = tio.RandomGamma(label_keys='label', include=['ima', 'label'])(temp)\n",
    "    # Gaussian noise\n",
    "    # mean 0   std 0 <-> 0.25\n",
    "    temp = tio.RandomNoise(label_keys='label', include=['ima', 'label'])(temp)\n",
    "    # coef 0.5\n",
    "    # order 3\n",
    "    temp = tio.RandomBiasField(label_keys='label', include=['ima', 'label'])(temp)\n",
    "    # Gaussian filter size 0 <-> 2\n",
    "    temp = tio.RandomBlur(label_keys='label', include=['ima', 'label'], std=0.5)(temp)\n",
    "\n",
    "    return temp['ima'][0, ...].numpy(), temp['label'][0, ...].numpy()\n",
    "\n",
    "label = np.array([[[1,2],[0,2]],[[1,2],[0,2]]])\n",
    "\n",
    "print((get_ima_aug(label)[0]).shape)"
   ]
  },
  {
   "cell_type": "code",
   "execution_count": 1,
   "id": "b164f23e-228f-4d78-a5b8-3e6bd8e45f4d",
   "metadata": {},
   "outputs": [
    {
     "name": "stdout",
     "output_type": "stream",
     "text": [
      "my_folder/subfolder/example.txt\n"
     ]
    }
   ],
   "source": [
    "import os\n",
    "\n",
    "# 定义路径组件\n",
    "folder = \"my_folder\"\n",
    "subfolder = \"subfolder\"\n",
    "file = \"example.txt\"\n",
    "\n",
    "# 使用 os.path.join() 连接路径组件\n",
    "full_path = os.path.join(folder, subfolder, file)\n",
    "\n",
    "# 打印连接后的路径\n",
    "print(full_path)"
   ]
  },
  {
   "cell_type": "code",
   "execution_count": 3,
   "id": "e4229e02-2f87-4b24-80cf-7847ce614a6f",
   "metadata": {},
   "outputs": [],
   "source": [
    "from PIL import Image\n",
    "import numpy as np\n",
    "\n",
    "# 创建一个示例的NumPy数组\n",
    "data = np.random.randint(0, 256, size=(100, 100), dtype=np.uint8)\n",
    "\n",
    "# 将NumPy数组转换为PIL图像\n",
    "image = Image.fromarray(data)\n",
    "\n",
    "# 保存图像为PNG文件\n",
    "image.save(\"output.png\")\n",
    "\n",
    "\n",
    "\n",
    "\n",
    "\n"
   ]
  },
  {
   "cell_type": "code",
   "execution_count": 2,
   "id": "149236fc-0aa0-4aff-a0b9-d48411b0a1a5",
   "metadata": {},
   "outputs": [
    {
     "name": "stdout",
     "output_type": "stream",
     "text": [
      "输入数据形状: torch.Size([1, 3, 32, 64, 64])\n",
      "输出数据形状: torch.Size([1, 3, 32, 32, 32])\n"
     ]
    }
   ],
   "source": [
    "import torch.nn as nn\n",
    "import torch\n",
    "# 输入数据的形状为 (batch_size, channels, depth, height, width)\n",
    "input_data = torch.randn(1, 3, 32, 64, 64)  # 示例数据，假设深度轴有32个切片\n",
    "\n",
    "# 创建一个3D最大池化层\n",
    "max_pooling_layer = nn.MaxPool3d(kernel_size=(1, 2, 2), stride=(1, 2, 2))\n",
    "\n",
    "# 对深度轴进行最大池化\n",
    "output_data = max_pooling_layer(input_data)\n",
    "\n",
    "# 输出数据的形状会减小，具体取决于池化窗口的大小和步幅\n",
    "print(\"输入数据形状:\", input_data.shape)\n",
    "print(\"输出数据形状:\", output_data.shape)"
   ]
  },
  {
   "cell_type": "code",
   "execution_count": 1,
   "id": "96e55814-7984-41cc-a853-48dd500a538e",
   "metadata": {},
   "outputs": [
    {
     "name": "stderr",
     "output_type": "stream",
     "text": [
      "/opt/conda/lib/python3.7/site-packages/IPython/core/pylabtools.py:151: UserWarning: Glyph 23567 (\\N{CJK UNIFIED IDEOGRAPH-5C0F}) missing from current font.\n",
      "  fig.canvas.print_figure(bytes_io, **kw)\n",
      "/opt/conda/lib/python3.7/site-packages/IPython/core/pylabtools.py:151: UserWarning: Glyph 27874 (\\N{CJK UNIFIED IDEOGRAPH-6CE2}) missing from current font.\n",
      "  fig.canvas.print_figure(bytes_io, **kw)\n",
      "/opt/conda/lib/python3.7/site-packages/IPython/core/pylabtools.py:151: UserWarning: Glyph 20989 (\\N{CJK UNIFIED IDEOGRAPH-51FD}) missing from current font.\n",
      "  fig.canvas.print_figure(bytes_io, **kw)\n",
      "/opt/conda/lib/python3.7/site-packages/IPython/core/pylabtools.py:151: UserWarning: Glyph 25976 (\\N{CJK UNIFIED IDEOGRAPH-6578}) missing from current font.\n",
      "  fig.canvas.print_figure(bytes_io, **kw)\n"
     ]
    },
    {
     "data": {
      "image/png": "[encoded data removed]",
      "text/plain": [
       "<Figure size 640x480 with 1 Axes>"
      ]
     },
     "metadata": {},
     "output_type": "display_data"
    }
   ],
   "source": [
    "import numpy as np\n",
    "import matplotlib.pyplot as plt\n",
    "import pywt\n",
    "\n",
    "# 選擇Daubechies小波的order\n",
    "order = 2\n",
    "\n",
    "# 創建Daubechies小波的實例\n",
    "wavelet = pywt.Wavelet(f'db{order}')\n",
    "\n",
    "# 獲取小波函數的支持區域\n",
    "x = np.linspace(0, wavelet.dec_len - 1, wavelet.dec_len)\n",
    "y = wavelet.dec_hi[::-1]  # dec_hi包含小波函數的高通濾波器係數\n",
    "\n",
    "# 繪製小波函數的圖形\n",
    "plt.plot(x, y, marker='o', linestyle='-', color='b')\n",
    "plt.title(f'Daubechies db{order} 小波函數')\n",
    "plt.xlabel('Sample Index')\n",
    "plt.ylabel('Amplitude')\n",
    "plt.grid(True)\n",
    "plt.show()"
   ]
  },
  {
   "cell_type": "code",
   "execution_count": 5,
   "id": "d6c009ab-75b6-4339-a877-196451fc2b64",
   "metadata": {},
   "outputs": [
    {
     "name": "stdout",
     "output_type": "stream",
     "text": [
      "A\n"
     ]
    }
   ],
   "source": [
    "class A:\n",
    "    def __init__(self):\n",
    "        super().__init__()\n",
    "        print('A')\n",
    "        self.a = 1\n",
    "\n",
    "\n",
    "# class B:\n",
    "#     def __init__(self):\n",
    "#         super().__init__()\n",
    "#         print('B')\n",
    "#         self.b = 2\n",
    "\n",
    "\n",
    "# class C(A, B):\n",
    "#     def __init__(self):\n",
    "#         super().__init__()\n",
    "#         print('C')\n",
    "# a = C()\n",
    "b = A()"
   ]
  },
  {
   "cell_type": "code",
   "execution_count": 21,
   "id": "8b1a017e-2a4e-47a0-bc70-5a2099a3196a",
   "metadata": {},
   "outputs": [
    {
     "ename": "ModuleNotFoundError",
     "evalue": "No module named 'data.dataset'",
     "output_type": "error",
     "traceback": [
      "\u001b[0;31m---------------------------------------------------------------------------\u001b[0m",
      "\u001b[0;31mModuleNotFoundError\u001b[0m                       Traceback (most recent call last)",
      "Cell \u001b[0;32mIn[21], line 4\u001b[0m\n\u001b[1;32m      2\u001b[0m \u001b[38;5;28;01mimport\u001b[39;00m \u001b[38;5;21;01mnumpy\u001b[39;00m \u001b[38;5;28;01mas\u001b[39;00m \u001b[38;5;21;01mnp\u001b[39;00m\n\u001b[1;32m      3\u001b[0m \u001b[38;5;28;01mimport\u001b[39;00m \u001b[38;5;21;01mdata\u001b[39;00m\n\u001b[0;32m----> 4\u001b[0m \u001b[38;5;28;01mfrom\u001b[39;00m \u001b[38;5;21;01mdata\u001b[39;00m\u001b[38;5;21;01m.\u001b[39;00m\u001b[38;5;21;01mdataset\u001b[39;00m \u001b[38;5;28;01mimport\u001b[39;00m Getdata\n\u001b[1;32m      5\u001b[0m \u001b[38;5;28;01mfrom\u001b[39;00m \u001b[38;5;21;01mtool\u001b[39;00m \u001b[38;5;28;01mimport\u001b[39;00m \u001b[38;5;241m*\u001b[39m\n\u001b[1;32m      6\u001b[0m \u001b[38;5;28;01mfrom\u001b[39;00m \u001b[38;5;21;01munet3d\u001b[39;00m \u001b[38;5;28;01mimport\u001b[39;00m \u001b[38;5;241m*\u001b[39m\n",
      "\u001b[0;31mModuleNotFoundError\u001b[0m: No module named 'data.dataset'"
     ]
    }
   ],
   "source": []
  },
  {
   "cell_type": "code",
   "execution_count": 2,
   "id": "e7fe6dc8-d96f-4db2-837f-71d68de9e34f",
   "metadata": {},
   "outputs": [
    {
     "name": "stdout",
     "output_type": "stream",
     "text": [
      "tensor([[1, 1],\n",
      "        [1, 2]]) tensor([[1, 1],\n",
      "        [1, 2]])\n"
     ]
    },
    {
     "ename": "RuntimeError",
     "evalue": "\"softmax_lastdim_kernel_impl\" not implemented for 'Long'",
     "output_type": "error",
     "traceback": [
      "\u001b[0;31m---------------------------------------------------------------------------\u001b[0m",
      "\u001b[0;31mRuntimeError\u001b[0m                              Traceback (most recent call last)",
      "Cell \u001b[0;32mIn[2], line 22\u001b[0m\n\u001b[1;32m     20\u001b[0m     weights \u001b[38;5;241m=\u001b[39m weights \u001b[38;5;241m/\u001b[39m weights\u001b[38;5;241m.\u001b[39msum()\n\u001b[1;32m     21\u001b[0m     \u001b[38;5;28;01mreturn\u001b[39;00m \u001b[38;5;28msum\u001b[39m([weights[i] \u001b[38;5;241m*\u001b[39m loss_function(\u001b[38;5;241m*\u001b[39minputs, \u001b[38;5;124m'\u001b[39m\u001b[38;5;124mdicesoftmax\u001b[39m\u001b[38;5;124m'\u001b[39m) \u001b[38;5;28;01mfor\u001b[39;00m i, inputs \u001b[38;5;129;01min\u001b[39;00m \u001b[38;5;28menumerate\u001b[39m(\u001b[38;5;28mzip\u001b[39m(output, mask)) \u001b[38;5;28;01mif\u001b[39;00m weights[i] \u001b[38;5;241m!=\u001b[39m \u001b[38;5;241m0.0\u001b[39m])\n\u001b[0;32m---> 22\u001b[0m \u001b[38;5;28mprint\u001b[39m(\u001b[43mDeepSupervisionloss\u001b[49m\u001b[43m(\u001b[49m\u001b[43mget_loss\u001b[49m\u001b[43m,\u001b[49m\u001b[43m \u001b[49m\u001b[43m[\u001b[49m\u001b[43ma\u001b[49m\u001b[43m,\u001b[49m\u001b[43ma\u001b[49m\u001b[43m]\u001b[49m\u001b[43m,\u001b[49m\u001b[43m[\u001b[49m\u001b[43ma\u001b[49m\u001b[43m,\u001b[49m\u001b[43ma\u001b[49m\u001b[43m]\u001b[49m\u001b[43m,\u001b[49m\u001b[43m \u001b[49m\u001b[38;5;241;43m2\u001b[39;49m\u001b[43m)\u001b[49m)\n",
      "Cell \u001b[0;32mIn[2], line 21\u001b[0m, in \u001b[0;36mDeepSupervisionloss\u001b[0;34m(loss_function, output, mask, deep_supervision_num)\u001b[0m\n\u001b[1;32m     19\u001b[0m weights[\u001b[38;5;241m-\u001b[39m\u001b[38;5;241m1\u001b[39m] \u001b[38;5;241m=\u001b[39m \u001b[38;5;241m0\u001b[39m\n\u001b[1;32m     20\u001b[0m weights \u001b[38;5;241m=\u001b[39m weights \u001b[38;5;241m/\u001b[39m weights\u001b[38;5;241m.\u001b[39msum()\n\u001b[0;32m---> 21\u001b[0m \u001b[38;5;28;01mreturn\u001b[39;00m \u001b[38;5;28msum\u001b[39m([weights[i] \u001b[38;5;241m*\u001b[39m loss_function(\u001b[38;5;241m*\u001b[39minputs, \u001b[38;5;124m'\u001b[39m\u001b[38;5;124mdicesoftmax\u001b[39m\u001b[38;5;124m'\u001b[39m) \u001b[38;5;28;01mfor\u001b[39;00m i, inputs \u001b[38;5;129;01min\u001b[39;00m \u001b[38;5;28menumerate\u001b[39m(\u001b[38;5;28mzip\u001b[39m(output, mask)) \u001b[38;5;28;01mif\u001b[39;00m weights[i] \u001b[38;5;241m!=\u001b[39m \u001b[38;5;241m0.0\u001b[39m])\n",
      "Cell \u001b[0;32mIn[2], line 21\u001b[0m, in \u001b[0;36m<listcomp>\u001b[0;34m(.0)\u001b[0m\n\u001b[1;32m     19\u001b[0m weights[\u001b[38;5;241m-\u001b[39m\u001b[38;5;241m1\u001b[39m] \u001b[38;5;241m=\u001b[39m \u001b[38;5;241m0\u001b[39m\n\u001b[1;32m     20\u001b[0m weights \u001b[38;5;241m=\u001b[39m weights \u001b[38;5;241m/\u001b[39m weights\u001b[38;5;241m.\u001b[39msum()\n\u001b[0;32m---> 21\u001b[0m \u001b[38;5;28;01mreturn\u001b[39;00m \u001b[38;5;28msum\u001b[39m([weights[i] \u001b[38;5;241m*\u001b[39m \u001b[43mloss_function\u001b[49m\u001b[43m(\u001b[49m\u001b[38;5;241;43m*\u001b[39;49m\u001b[43minputs\u001b[49m\u001b[43m,\u001b[49m\u001b[43m \u001b[49m\u001b[38;5;124;43m'\u001b[39;49m\u001b[38;5;124;43mdicesoftmax\u001b[39;49m\u001b[38;5;124;43m'\u001b[39;49m\u001b[43m)\u001b[49m \u001b[38;5;28;01mfor\u001b[39;00m i, inputs \u001b[38;5;129;01min\u001b[39;00m \u001b[38;5;28menumerate\u001b[39m(\u001b[38;5;28mzip\u001b[39m(output, mask)) \u001b[38;5;28;01mif\u001b[39;00m weights[i] \u001b[38;5;241m!=\u001b[39m \u001b[38;5;241m0.0\u001b[39m])\n",
      "File \u001b[0;32m/home/jupyter/norm/synthseg/tool.py:76\u001b[0m, in \u001b[0;36mget_loss\u001b[0;34m(logits, mask, loss_type)\u001b[0m\n\u001b[1;32m     74\u001b[0m \u001b[38;5;28;01melif\u001b[39;00m loss_type \u001b[38;5;241m==\u001b[39m \u001b[38;5;124m'\u001b[39m\u001b[38;5;124mdicesoftmax\u001b[39m\u001b[38;5;124m'\u001b[39m:\n\u001b[1;32m     75\u001b[0m     \u001b[38;5;28mprint\u001b[39m(logits,mask)\n\u001b[0;32m---> 76\u001b[0m     loss \u001b[38;5;241m=\u001b[39m \u001b[43mDiceLoss\u001b[49m\u001b[43m(\u001b[49m\u001b[43msoftmax\u001b[49m\u001b[38;5;241;43m=\u001b[39;49m\u001b[38;5;28;43;01mTrue\u001b[39;49;00m\u001b[43m,\u001b[49m\u001b[43m \u001b[49m\u001b[43mto_onehot_y\u001b[49m\u001b[38;5;241;43m=\u001b[39;49m\u001b[38;5;28;43;01mTrue\u001b[39;49;00m\u001b[43m,\u001b[49m\n\u001b[1;32m     77\u001b[0m \u001b[43m                    \u001b[49m\u001b[43minclude_background\u001b[49m\u001b[38;5;241;43m=\u001b[39;49m\u001b[38;5;28;43;01mTrue\u001b[39;49;00m\u001b[43m)\u001b[49m\u001b[43m(\u001b[49m\u001b[43mlogits\u001b[49m\u001b[43m,\u001b[49m\u001b[43m \u001b[49m\u001b[43mmask_d\u001b[49m\u001b[43m[\u001b[49m\u001b[38;5;28;43;01mNone\u001b[39;49;00m\u001b[43m,\u001b[49m\u001b[43m \u001b[49m\u001b[38;5;241;43m.\u001b[39;49m\u001b[38;5;241;43m.\u001b[39;49m\u001b[38;5;241;43m.\u001b[39;49m\u001b[43m]\u001b[49m\u001b[43m)\u001b[49m\n\u001b[1;32m     80\u001b[0m \u001b[38;5;28;01melif\u001b[39;00m loss_type \u001b[38;5;241m==\u001b[39m \u001b[38;5;124m'\u001b[39m\u001b[38;5;124mdicefocalsoftmax\u001b[39m\u001b[38;5;124m'\u001b[39m:\n\u001b[1;32m     81\u001b[0m     loss \u001b[38;5;241m=\u001b[39m DiceFocalLoss(softmax\u001b[38;5;241m=\u001b[39m\u001b[38;5;28;01mTrue\u001b[39;00m, to_onehot_y\u001b[38;5;241m=\u001b[39m\u001b[38;5;28;01mTrue\u001b[39;00m,\n\u001b[1;32m     82\u001b[0m                      include_background\u001b[38;5;241m=\u001b[39m\u001b[38;5;28;01mTrue\u001b[39;00m)(logits, mask_d[\u001b[38;5;28;01mNone\u001b[39;00m, \u001b[38;5;241m.\u001b[39m\u001b[38;5;241m.\u001b[39m\u001b[38;5;241m.\u001b[39m])\n",
      "File \u001b[0;32m/opt/conda/lib/python3.10/site-packages/torch/nn/modules/module.py:1501\u001b[0m, in \u001b[0;36mModule._call_impl\u001b[0;34m(self, *args, **kwargs)\u001b[0m\n\u001b[1;32m   1496\u001b[0m \u001b[38;5;66;03m# If we don't have any hooks, we want to skip the rest of the logic in\u001b[39;00m\n\u001b[1;32m   1497\u001b[0m \u001b[38;5;66;03m# this function, and just call forward.\u001b[39;00m\n\u001b[1;32m   1498\u001b[0m \u001b[38;5;28;01mif\u001b[39;00m \u001b[38;5;129;01mnot\u001b[39;00m (\u001b[38;5;28mself\u001b[39m\u001b[38;5;241m.\u001b[39m_backward_hooks \u001b[38;5;129;01mor\u001b[39;00m \u001b[38;5;28mself\u001b[39m\u001b[38;5;241m.\u001b[39m_backward_pre_hooks \u001b[38;5;129;01mor\u001b[39;00m \u001b[38;5;28mself\u001b[39m\u001b[38;5;241m.\u001b[39m_forward_hooks \u001b[38;5;129;01mor\u001b[39;00m \u001b[38;5;28mself\u001b[39m\u001b[38;5;241m.\u001b[39m_forward_pre_hooks\n\u001b[1;32m   1499\u001b[0m         \u001b[38;5;129;01mor\u001b[39;00m _global_backward_pre_hooks \u001b[38;5;129;01mor\u001b[39;00m _global_backward_hooks\n\u001b[1;32m   1500\u001b[0m         \u001b[38;5;129;01mor\u001b[39;00m _global_forward_hooks \u001b[38;5;129;01mor\u001b[39;00m _global_forward_pre_hooks):\n\u001b[0;32m-> 1501\u001b[0m     \u001b[38;5;28;01mreturn\u001b[39;00m \u001b[43mforward_call\u001b[49m\u001b[43m(\u001b[49m\u001b[38;5;241;43m*\u001b[39;49m\u001b[43margs\u001b[49m\u001b[43m,\u001b[49m\u001b[43m \u001b[49m\u001b[38;5;241;43m*\u001b[39;49m\u001b[38;5;241;43m*\u001b[39;49m\u001b[43mkwargs\u001b[49m\u001b[43m)\u001b[49m\n\u001b[1;32m   1502\u001b[0m \u001b[38;5;66;03m# Do not call functions when jit is used\u001b[39;00m\n\u001b[1;32m   1503\u001b[0m full_backward_hooks, non_full_backward_hooks \u001b[38;5;241m=\u001b[39m [], []\n",
      "File \u001b[0;32m/opt/conda/lib/python3.10/site-packages/monai/losses/dice.py:149\u001b[0m, in \u001b[0;36mDiceLoss.forward\u001b[0;34m(self, input, target)\u001b[0m\n\u001b[1;32m    147\u001b[0m         warnings\u001b[38;5;241m.\u001b[39mwarn(\u001b[38;5;124m\"\u001b[39m\u001b[38;5;124msingle channel prediction, `softmax=True` ignored.\u001b[39m\u001b[38;5;124m\"\u001b[39m)\n\u001b[1;32m    148\u001b[0m     \u001b[38;5;28;01melse\u001b[39;00m:\n\u001b[0;32m--> 149\u001b[0m         \u001b[38;5;28minput\u001b[39m \u001b[38;5;241m=\u001b[39m \u001b[43mtorch\u001b[49m\u001b[38;5;241;43m.\u001b[39;49m\u001b[43msoftmax\u001b[49m\u001b[43m(\u001b[49m\u001b[38;5;28;43minput\u001b[39;49m\u001b[43m,\u001b[49m\u001b[43m \u001b[49m\u001b[38;5;241;43m1\u001b[39;49m\u001b[43m)\u001b[49m\n\u001b[1;32m    151\u001b[0m \u001b[38;5;28;01mif\u001b[39;00m \u001b[38;5;28mself\u001b[39m\u001b[38;5;241m.\u001b[39mother_act \u001b[38;5;129;01mis\u001b[39;00m \u001b[38;5;129;01mnot\u001b[39;00m \u001b[38;5;28;01mNone\u001b[39;00m:\n\u001b[1;32m    152\u001b[0m     \u001b[38;5;28minput\u001b[39m \u001b[38;5;241m=\u001b[39m \u001b[38;5;28mself\u001b[39m\u001b[38;5;241m.\u001b[39mother_act(\u001b[38;5;28minput\u001b[39m)\n",
      "\u001b[0;31mRuntimeError\u001b[0m: \"softmax_lastdim_kernel_impl\" not implemented for 'Long'"
     ]
    }
   ],
   "source": [
    "import SimpleITK as sitk\n",
    "import numpy as np\n",
    "import torch\n",
    "from scipy.ndimage import binary_dilation, gaussian_filter\n",
    "import shutil\n",
    "from nilearn.image import reorder_img, resample_to_img, resample_img\n",
    "import nibabel as nib\n",
    "import glob\n",
    "import os\n",
    "import random\n",
    "from os.path import basename, join, dirname, abspath, isdir\n",
    "from synthseg.tool import *\n",
    "device = ('cuda' if torch.cuda.is_available() else 'cpu')\n",
    "a = torch.tensor([[1,1],[1,2]])\n",
    "\n",
    "def DeepSupervisionloss(loss_function, output, mask, deep_supervision_num):\n",
    "    \n",
    "    weights = np.array([1 / (2 ** i) for i in range(deep_supervision_num)])\n",
    "    weights[-1] = 0\n",
    "    weights = weights / weights.sum()\n",
    "    return sum([weights[i] * loss_function(*inputs, 'dicesoftmax') for i, inputs in enumerate(zip(output, mask)) if weights[i] != 0.0])\n",
    "print(DeepSupervisionloss(get_loss, [a,a],[a,a], 2))"
   ]
  },
  {
   "cell_type": "code",
   "execution_count": 25,
   "id": "1f8761c5-b920-471d-aaf7-c2a8bcdbd678",
   "metadata": {},
   "outputs": [
    {
     "name": "stdout",
     "output_type": "stream",
     "text": [
      "[(1, 2), (2, 3), (3, 4)]\n"
     ]
    }
   ],
   "source": [
    "output = [1,2,3]\n",
    "mask = [2,3,4]\n",
    "print([inputs for i, inputs in enumerate(zip(output, mask))] )"
   ]
  },
  {
   "cell_type": "code",
   "execution_count": 26,
   "id": "ddf1e99e-9a36-4dfc-8bf5-1e084165dfcc",
   "metadata": {},
   "outputs": [
    {
     "data": {
      "image/png": "[encoded data removed]",
      "text/plain": [
       "<Figure size 640x480 with 2 Axes>"
      ]
     },
     "metadata": {},
     "output_type": "display_data"
    },
    {
     "name": "stdout",
     "output_type": "stream",
     "text": [
      "torch.Size([1, 20, 20, 20])\n"
     ]
    },
    {
     "name": "stderr",
     "output_type": "stream",
     "text": [
      "/opt/conda/lib/python3.10/site-packages/torchio/transforms/augmentation/spatial/random_elastic_deformation.py:303: RuntimeWarning: The maximum displacement is larger than the coarse grid spacing for dimensions: [0, 1, 2], so folding may occur. Choose fewer control points or a smaller maximum displacement\n",
      "  self.parse_free_form_transform(\n"
     ]
    },
    {
     "data": {
      "text/plain": [
       "Text(0.5, 1.0, 'ima')"
      ]
     },
     "execution_count": 26,
     "metadata": {},
     "output_type": "execute_result"
    },
    {
     "data": {
      "image/png": "[encoded data removed]",
      "text/plain": [
       "<Figure size 640x480 with 2 Axes>"
      ]
     },
     "metadata": {},
     "output_type": "display_data"
    }
   ],
   "source": [
    "import numpy as np\n",
    "import os, random\n",
    "import torchio as tio\n",
    "import matplotlib\n",
    "array = np.zeros((20,20,20))\n",
    "array[::3, :,:] = 255\n",
    "array[:, ::3,:] = 255\n",
    "array[:, :, ::3] = 255\n",
    "plt.imshow(array[10], cmap='gray')\n",
    "plt.colorbar()  # 添加颜色条\n",
    "plt.show()\n",
    "data = dict()\n",
    "data['ima'] = array[None, ...]\n",
    "data['label'] = array[None, ...]\n",
    "temp = data\n",
    "temp = tio.RandomElasticDeformation(label_keys=['label'], include=['ima','label'])(temp)\n",
    "print(temp['label'].shape)\n",
    "plt.subplot(2, 1, 1)\n",
    "plt.imshow(temp['label'][0, 10, :,:], cmap='gray')\n",
    "plt.title('label')\n",
    "\n",
    "plt.subplot(2, 1, 2)\n",
    "plt.imshow(temp['ima'][0, 10, :,:], cmap='gray')\n",
    "plt.title('ima')"
   ]
  },
  {
   "cell_type": "code",
   "execution_count": null,
   "id": "31dc85a2-5478-491b-ad10-7985ec734052",
   "metadata": {},
   "outputs": [],
   "source": []
  }
 ],
 "metadata": {
  "kernelspec": {
   "display_name": "Python 3 (ipykernel)",
   "language": "python",
   "name": "python3"
  },
  "language_info": {
   "codemirror_mode": {
    "name": "ipython",
    "version": 3
   },
   "file_extension": ".py",
   "mimetype": "text/x-python",
   "name": "python",
   "nbconvert_exporter": "python",
   "pygments_lexer": "ipython3",
   "version": "3.10.12"
  }
 },
 "nbformat": 4,
 "nbformat_minor": 5
}
