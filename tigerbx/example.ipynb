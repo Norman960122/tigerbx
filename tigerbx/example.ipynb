{
 "cells": [
  {
   "cell_type": "code",
   "execution_count": 1,
   "id": "56d960f3-8618-4958-85b4-f30b7c382d6e",
   "metadata": {},
   "outputs": [],
   "source": [
    "import tigerbx\n",
    "tigerbx.run('bmadk', r'c:\\\\T1w', 'c:\\\\temp')"
   ]
  }
 ],
 "metadata": {
  "kernelspec": {
   "display_name": "Python 3",
   "language": "python",
   "name": "python3"
  },
  "language_info": {
   "codemirror_mode": {
    "name": "ipython",
    "version": 3
   },
   "file_extension": ".py",
   "mimetype": "text/x-python",
   "name": "python",
   "nbconvert_exporter": "python",
   "pygments_lexer": "ipython3",
   "version": "3.8.8"
  }
 },
 "nbformat": 4,
 "nbformat_minor": 5
}
